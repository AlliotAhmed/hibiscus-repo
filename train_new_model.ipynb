{
 "cells": [
  {
   "cell_type": "markdown",
   "metadata": {},
   "source": [
    "# Hibiscus Leaf Disease Classifier - Model Training\n",
    "\n",
    "This notebook walks through the process of training a new model using additional dataset."
   ]
  },
  {
   "cell_type": "markdown",
   "metadata": {},
   "source": [
    "## 1. Setup and Import Libraries"
   ]
  },
  {
   "cell_type": "code",
   "execution_count": null,
   "metadata": {},
   "outputs": [],
   "source": [
    "import os\n",
    "import numpy as np\n",
    "import tensorflow as tf\n",
    "from tensorflow import keras\n",
    "from tensorflow.keras import layers\n",
    "from tensorflow.keras.preprocessing.image import ImageDataGenerator\n",
    "import matplotlib.pyplot as plt\n",
    "import logging\n",
    "\n",
    "# Configure logging\n",
    "logging.basicConfig(level=logging.INFO)\n",
    "logger = logging.getLogger(__name__)\n",
    "\n",
    "# Check for GPU availability\n",
    "print(\"Num GPUs Available: \", len(tf.config.list_physical_devices('GPU')))"
   ]
  },
  {
   "cell_type": "markdown",
   "metadata": {},
   "source": [
    "## 2. Dataset Analysis\n",
    "\n",
    "Let's examine the dataset structure and some sample images."
   ]
  },
  {
   "cell_type": "code",
   "execution_count": null,
   "metadata": {},
   "outputs": [],
   "source": [
    "# Set the path to your dataset\n",
    "DATASET_PATH = 'leaf_dataset'\n",
    "\n",
    "# Count images in each class\n",
    "healthy_path = os.path.join(DATASET_PATH, 'healthy')\n",
    "diseased_path = os.path.join(DATASET_PATH, 'diseased')\n",
    "\n",
    "healthy_count = len(os.listdir(healthy_path)) if os.path.exists(healthy_path) else 0\n",
    "diseased_count = len(os.listdir(diseased_path)) if os.path.exists(diseased_path) else 0\n",
    "\n",
    "print(f\"Healthy images: {healthy_count}\")\n",
    "print(f\"Diseased images: {diseased_count}\")\n",
    "print(f\"Total images: {healthy_count + diseased_count}\")"
   ]
  },
  {
   "cell_type": "markdown",
   "metadata": {},
   "source": [
    "### 2.1 View Sample Images"
   ]
  },
  {
   "cell_type": "code",
   "execution_count": null,
   "metadata": {},
   "outputs": [],
   "source": [
    "import random\n",
    "from PIL import Image\n",
    "\n",
    "def display_sample_images(class_dir, num_samples=5):\n",
    "    \"\"\"Display sample images from a class directory\"\"\"\n",
    "    if not os.path.exists(class_dir):\n",
    "        print(f\"Directory not found: {class_dir}\")\n",
    "        return\n",
    "    \n",
    "    image_files = [f for f in os.listdir(class_dir) \n",
    "                   if f.lower().endswith(('.jpg', '.jpeg', '.png'))]\n",
    "    \n",
    "    if not image_files:\n",
    "        print(f\"No images found in {class_dir}\")\n",
    "        return\n",
    "    \n",
    "    samples = random.sample(image_files, min(num_samples, len(image_files)))\n",
    "    \n",
    "    plt.figure(figsize=(15, 3))\n",
    "    for i, img_file in enumerate(samples):\n",
    "        img_path = os.path.join(class_dir, img_file)\n",
    "        img = Image.open(img_path)\n",
    "        \n",
    "        plt.subplot(1, num_samples, i+1)\n",
    "        plt.imshow(img)\n",
    "        plt.title(f\"Size: {img.size}\")\n",
    "        plt.axis('off')\n",
    "    \n",
    "    plt.tight_layout()\n",
    "    plt.show()\n",
    "\n",
    "# Display sample healthy images\n",
    "print(\"Sample Healthy Images:\")\n",
    "display_sample_images(healthy_path)\n",
    "\n",
    "# Display sample diseased images\n",
    "print(\"Sample Diseased Images:\")\n",
    "display_sample_images(diseased_path)"
   ]
  },
  {
   "cell_type": "markdown",
   "metadata": {},
   "source": [
    "## 3. Data Preparation\n",
    "\n",
    "Set up data generators with augmentation for training"
   ]
  },
  {
   "cell_type": "code",
   "execution_count": null,
   "metadata": {},
   "outputs": [],
   "source": [
    "# Constants\n",
    "IMAGE_SIZE = (224, 224)  # Standard size for many pre-trained models\n",
    "BATCH_SIZE = 32\n",
    "\n",
    "# Data augmentation for training\n",
    "train_datagen = ImageDataGenerator(\n",
    "    rescale=1./255,\n",
    "    rotation_range=20,\n",
    "    width_shift_range=0.2,\n",
    "    height_shift_range=0.2,\n",
    "    shear_range=0.2,\n",
    "    zoom_range=0.2,\n",
    "    horizontal_flip=True,\n",
    "    fill_mode='nearest',\n",
    "    validation_split=0.2\n",
    ")\n",
    "\n",
    "# Only rescaling for validation\n",
    "valid_datagen = ImageDataGenerator(\n",
    "    rescale=1./255,\n",
    "    validation_split=0.2\n",
    ")\n",
    "\n",
    "# Create training generator\n",
    "train_generator = train_datagen.flow_from_directory(\n",
    "    DATASET_PATH,\n",
    "    target_size=IMAGE_SIZE,\n",
    "    batch_size=BATCH_SIZE,\n",
    "    class_mode='binary',\n",
    "    subset='training'\n",
    ")\n",
    "\n",
    "# Create validation generator\n",
    "valid_generator = valid_datagen.flow_from_directory(\n",
    "    DATASET_PATH,\n",
    "    target_size=IMAGE_SIZE,\n",
    "    batch_size=BATCH_SIZE,\n",
    "    class_mode='binary',\n",
    "    subset='validation'\n",
    ")\n",
    "\n",
    "print(f\"Class indices: {train_generator.class_indices}\")"
   ]
  },
  {
   "cell_type": "markdown",
   "metadata": {},
   "source": [
    "### 3.1 View Augmented Images"
   ]
  },
  {
   "cell_type": "code",
   "execution_count": null,
   "metadata": {},
   "outputs": [],
   "source": [
    "def display_augmented_images(generator, num_images=5):\n",
    "    \"\"\"Display a batch of augmented images\"\"\"\n",
    "    # Get a batch of images\n",
    "    images, labels = next(generator)\n",
    "    \n",
    "    # Display the images\n",
    "    plt.figure(figsize=(15, 3))\n",
    "    for i in range(min(num_images, len(images))):\n",
    "        plt.subplot(1, num_images, i+1)\n",
    "        # Images are normalized, so we need to rescale them back\n",
    "        plt.imshow(images[i])\n",
    "        class_idx = int(labels[i])\n",
    "        class_name = list(generator.class_indices.keys())[list(generator.class_indices.values()).index(class_idx)]\n",
    "        plt.title(class_name)\n",
    "        plt.axis('off')\n",
    "    \n",
    "    plt.tight_layout()\n",
    "    plt.show()\n",
    "\n",
    "# Display augmented training images\n",
    "print(\"Augmented Training Images:\")\n",
    "display_augmented_images(train_generator)"
   ]
  },
  {
   "cell_type": "markdown",
   "metadata": {},
   "source": [
    "## 4. Create and Train the Model"
   ]
  },
  {
   "cell_type": "code",
   "execution_count": null,
   "metadata": {},
   "outputs": [],
   "source": [
    "def create_model():\n",
    "    \"\"\"Create a CNN model for leaf disease classification\"\"\"\n",
    "    # Use MobileNetV2 as the base model (lightweight and works well with TFLite)\n",
    "    base_model = keras.applications.MobileNetV2(\n",
    "        input_shape=(*IMAGE_SIZE, 3),\n",
    "        include_top=False,\n",
    "        weights='imagenet'\n",
    "    )\n",
    "    \n",
    "    # Freeze the base model layers\n",
    "    base_model.trainable = False\n",
    "    \n",
    "    # Create the model\n",
    "    model = keras.Sequential([\n",
    "        base_model,\n",
    "        layers.GlobalAveragePooling2D(),\n",
    "        layers.Dense(128, activation='relu'),\n",
    "        layers.Dropout(0.2),\n",
    "        layers.Dense(1, activation='sigmoid')  # Binary classification (healthy vs diseased)\n",
    "    ])\n",
    "    \n",
    "    # Compile the model\n",
    "    model.compile(\n",
    "        optimizer=keras.optimizers.Adam(learning_rate=0.0001),\n",
    "        loss='binary_crossentropy',\n",
    "        metrics=['accuracy']\n",
    "    )\n",
    "    \n",
    "    return model\n",
    "\n",
    "# Create the model\n",
    "model = create_model()\n",
    "model.summary()"
   ]
  },
  {
   "cell_type": "markdown",
   "metadata": {},
   "source": [
    "### 4.1 Train the Model"
   ]
  },
  {
   "cell_type": "code",
   "execution_count": null,
   "metadata": {},
   "outputs": [],
   "source": [
    "# Create output directory\n",
    "OUTPUT_DIR = 'models'\n",
    "os.makedirs(OUTPUT_DIR, exist_ok=True)\n",
    "\n",
    "# Callbacks\n",
    "callbacks = [\n",
    "    keras.callbacks.ModelCheckpoint(\n",
    "        os.path.join(OUTPUT_DIR, 'hibiscus_model_best.h5'),\n",
    "        save_best_only=True,\n",
    "        monitor='val_accuracy'\n",
    "    ),\n",
    "    keras.callbacks.EarlyStopping(\n",
    "        monitor='val_loss', \n",
    "        patience=5,\n",
    "        restore_best_weights=True\n",
    "    )\n",
    "]\n",
    "\n",
    "# Train the model\n",
    "EPOCHS = 20\n",
    "history = model.fit(\n",
    "    train_generator,\n",
    "    validation_data=valid_generator,\n",
    "    epochs=EPOCHS,\n",
    "    callbacks=callbacks\n",
    ")"
   ]
  },
  {
   "cell_type": "markdown",
   "metadata": {},
   "source": [
    "### 4.2 Evaluate Model Performance"
   ]
  },
  {
   "cell_type": "code",
   "execution_count": null,
   "metadata": {},
   "outputs": [],
   "source": [
    "# Plot training history\n",
    "plt.figure(figsize=(12, 4))\n",
    "\n",
    "plt.subplot(1, 2, 1)\n",
    "plt.plot(history.history['accuracy'])\n",
    "plt.plot(history.history['val_accuracy'])\n",
    "plt.title('Model accuracy')\n",
    "plt.ylabel('Accuracy')\n",
    "plt.xlabel('Epoch')\n",
    "plt.legend(['Train', 'Validation'], loc='upper left')\n",
    "\n",
    "plt.subplot(1, 2, 2)\n",
    "plt.plot(history.history['loss'])\n",
    "plt.plot(history.history['val_loss'])\n",
    "plt.title('Model loss')\n",
    "plt.ylabel('Loss')\n",
    "plt.xlabel('Epoch')\n",
    "plt.legend(['Train', 'Validation'], loc='upper left')\n",
    "\n",
    "plt.tight_layout()\n",
    "plt.savefig(os.path.join(OUTPUT_DIR, 'training_history.png'))\n",
    "plt.show()"
   ]
  },
  {
   "cell_type": "markdown",
   "metadata": {},
   "source": [
    "## 5. Save and Convert the Model to TFLite"
   ]
  },
  {
   "cell_type": "code",
   "execution_count": null,
   "metadata": {},
   "outputs": [],
   "source": [
    "# Save the final model\n",
    "model_path = os.path.join(OUTPUT_DIR, 'hibiscus_model_final.h5')\n",
    "model.save(model_path)\n",
    "print(f\"Model saved to: {model_path}\")\n",
    "\n",
    "# Convert the model to TFLite format\n",
    "converter = tf.lite.TFLiteConverter.from_keras_model(model)\n",
    "tflite_model = converter.convert()\n",
    "\n",
    "# Save the TFLite model\n",
    "tflite_path = os.path.join(OUTPUT_DIR, 'hibiscus_leaf_classifier.tflite')\n",
    "with open(tflite_path, 'wb') as f:\n",
    "    f.write(tflite_model)\n",
    "\n",
    "print(f\"TFLite model saved to: {tflite_path}\")"
   ]
  },
  {
   "cell_type": "markdown",
   "metadata": {},
   "source": [
    "## 6. Test the Model on Sample Images"
   ]
  },
  {
   "cell_type": "code",
   "execution_count": null,
   "metadata": {},
   "outputs": [],
   "source": [
    "def preprocess_image(image_path):\n",
    "    \"\"\"Preprocess an image for model inference\"\"\"\n",
    "    img = keras.preprocessing.image.load_img(image_path, target_size=IMAGE_SIZE)\n",
    "    img_array = keras.preprocessing.image.img_to_array(img)\n",
    "    img_array = np.expand_dims(img_array, axis=0)\n",
    "    img_array = img_array / 255.0\n",
    "    return img_array\n",
    "\n",
    "def test_image(image_path, model):\n",
    "    \"\"\"Test the model on a single image\"\"\"\n",
    "    img_array = preprocess_image(image_path)\n",
    "    prediction = model.predict(img_array)[0][0]\n",
    "    \n",
    "    # Binary classification: 0 = healthy, 1 = diseased\n",
    "    class_name = \"Diseased\" if prediction > 0.5 else \"Healthy\"\n",
    "    confidence = prediction if prediction > 0.5 else 1 - prediction\n",
    "    \n",
    "    plt.figure(figsize=(4, 4))\n",
    "    img = keras.preprocessing.image.load_img(image_path, target_size=IMAGE_SIZE)\n",
    "    plt.imshow(img)\n",
    "    plt.title(f\"{class_name} ({confidence:.2%})\")\n",
    "    plt.axis('off')\n",
    "    plt.show()\n",
    "    \n",
    "    return class_name, confidence\n",
    "\n",
    "# Test on some sample images\n",
    "# You can replace these with your own test images\n",
    "test_image_paths = [\n",
    "    # Add some test image paths here\n",
    "    # Example: 'test_images/healthy1.jpg',\n",
    "    # Example: 'test_images/diseased1.jpg',\n",
    "]\n",
    "\n",
    "# Create a test_images directory if it doesn't exist\n",
    "test_dir = 'test_images'\n",
    "os.makedirs(test_dir, exist_ok=True)\n",
    "\n",
    "print(\"Please add some test images to the 'test_images' directory\")\n",
    "print(\"Then uncomment and run this cell again to test them\")\n",
    "\n",
    "# Uncomment to run tests\n",
    "# for img_path in test_image_paths:\n",
    "#     if os.path.exists(img_path):\n",
    "#         print(f\"Testing: {img_path}\")\n",
    "#         class_name, confidence = test_image(img_path, model)\n",
    "#         print(f\"Prediction: {class_name} ({confidence:.2%})\")\n",
    "#     else:\n",
    "#         print(f\"Image not found: {img_path}\")"
   ]
  },
  {
   "cell_type": "markdown",
   "metadata": {},
   "source": [
    "## 7. Conclusion\n",
    "\n",
    "You now have a trained model saved in both Keras (.h5) and TensorFlow Lite (.tflite) formats. \n",
    "\n",
    "To use this model in your application:\n",
    "1. Copy the TFLite model file to your application directory\n",
    "2. Update the model path in your application code\n",
    "3. Test with new leaf images\n",
    "\n",
    "The TFLite model is ready to be deployed to your web application for leaf disease classification."
   ]
  }
 ],
 "metadata": {
  "kernelspec": {
   "display_name": "Python 3",
   "language": "python",
   "name": "python3"
  },
  "language_info": {
   "codemirror_mode": {
    "name": "ipython",
    "version": 3
   },
   "file_extension": ".py",
   "mimetype": "text/x-python",
   "name": "python",
   "nbconvert_exporter": "python",
   "pygments_lexer": "ipython3",
   "version": "3.11.0"
  }
 },
 "nbformat": 4,
 "nbformat_minor": 4
}